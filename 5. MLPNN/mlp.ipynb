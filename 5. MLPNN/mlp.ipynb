{
 "cells": [
  {
   "cell_type": "markdown",
   "metadata": {},
   "source": [
    "# Assignment 5: MNIST Classification using MultiLayer Perceptron\n",
    "\n",
    "## 1. Import libraries and dataset, and do Exploratory Data Analysis"
   ]
  },
  {
   "cell_type": "markdown",
   "metadata": {},
   "source": [
    "Import libraries."
   ]
  },
  {
   "cell_type": "code",
   "execution_count": 1,
   "metadata": {},
   "outputs": [],
   "source": [
    "import torch\n",
    "import numpy as np\n",
    "import matplotlib.pyplot as plt\n",
    "import torchvision\n",
    "\n",
    "from torchvision.datasets import MNIST\n",
    "from torch import nn\n",
    "from torch.utils.data import DataLoader\n",
    "from torchvision import datasets\n",
    "from torchvision.transforms import ToTensor"
   ]
  },
  {
   "cell_type": "markdown",
   "metadata": {},
   "source": [
    "Load the MNIST dataset with Torchvision API and split it into a train dataset & test dataset. Also convert MNIST dataset images to vector tensor."
   ]
  },
  {
   "cell_type": "code",
   "execution_count": 2,
   "metadata": {},
   "outputs": [],
   "source": [
    "mnist_trainset = datasets.MNIST(root='./data', train=True, download=True, transform=ToTensor())\n",
    "mnist_testset = datasets.MNIST(root='./data', train=False, download=True, transform=ToTensor())"
   ]
  },
  {
   "cell_type": "markdown",
   "metadata": {},
   "source": [
    "Visualize the dataset as actual images, by plotting them using `matplotlib`."
   ]
  },
  {
   "cell_type": "code",
   "execution_count": 3,
   "metadata": {},
   "outputs": [
    {
     "data": {
      "image/png": "[encoded data removed]",
      "text/plain": [
       "<Figure size 700x700 with 25 Axes>"
      ]
     },
     "metadata": {},
     "output_type": "display_data"
    }
   ],
   "source": [
    "figure = plt.figure(figsize=(7, 7))\n",
    "cols, rows = 5, 5\n",
    "\n",
    "for i in range(1, cols * rows + 1):\n",
    "    sample_idx = torch.randint(len(mnist_trainset), size=(1,)).item()\n",
    "    img, label = mnist_trainset[sample_idx]\n",
    "    figure.add_subplot(rows, cols, i)\n",
    "    plt.axis(\"off\")\n",
    "    plt.imshow(img.squeeze(), cmap=\"gray\")\n",
    "    \n",
    "plt.show() "
   ]
  },
  {
   "cell_type": "markdown",
   "metadata": {},
   "source": [
    "## 2. Preprocess dataset."
   ]
  },
  {
   "cell_type": "markdown",
   "metadata": {},
   "source": [
    "Check the length of the MNIST training set & test set."
   ]
  },
  {
   "cell_type": "code",
   "execution_count": 4,
   "metadata": {},
   "outputs": [
    {
     "data": {
      "text/plain": [
       "60000"
      ]
     },
     "execution_count": 4,
     "metadata": {},
     "output_type": "execute_result"
    }
   ],
   "source": [
    "len(mnist_trainset)"
   ]
  },
  {
   "cell_type": "code",
   "execution_count": 5,
   "metadata": {},
   "outputs": [
    {
     "data": {
      "text/plain": [
       "10000"
      ]
     },
     "execution_count": 5,
     "metadata": {},
     "output_type": "execute_result"
    }
   ],
   "source": [
    "len(mnist_testset)"
   ]
  },
  {
   "cell_type": "markdown",
   "metadata": {},
   "source": [
    "The image is converted to a 28*28 tensor. \n",
    "The first dimension is used to keep track of the color channels. Since images in the MNIST dataset are grayscale, there's just one channel."
   ]
  },
  {
   "cell_type": "code",
   "execution_count": 6,
   "metadata": {},
   "outputs": [
    {
     "name": "stdout",
     "output_type": "stream",
     "text": [
      "torch.Size([1, 28, 28]) 5\n",
      "torch.Size([1, 28, 28]) 7\n"
     ]
    }
   ],
   "source": [
    "image_tensor, label = mnist_trainset[0]\n",
    "print(image_tensor.shape, label)\n",
    "\n",
    "image_tensor, label = mnist_testset[0]\n",
    "print(image_tensor.shape, label)"
   ]
  },
  {
   "cell_type": "markdown",
   "metadata": {},
   "source": [
    "Use `DataLoader` to iterate over the dataset in mini batches instead of one observation at a time, and to shuffle  the data while training the models."
   ]
  },
  {
   "cell_type": "code",
   "execution_count": 7,
   "metadata": {},
   "outputs": [],
   "source": [
    "loaded_train = DataLoader(mnist_trainset, batch_size=64)\n",
    "loaded_test = DataLoader(mnist_testset, batch_size=64)"
   ]
  },
  {
   "cell_type": "markdown",
   "metadata": {},
   "source": [
    "## 3. Build the MLP model"
   ]
  },
  {
   "cell_type": "markdown",
   "metadata": {},
   "source": [
    "Feed vector tensors to linear layers & activation functions."
   ]
  },
  {
   "cell_type": "code",
   "execution_count": 8,
   "metadata": {},
   "outputs": [
    {
     "name": "stdout",
     "output_type": "stream",
     "text": [
      "cuda\n",
      "MLP(\n",
      "  (flatten): Flatten(start_dim=1, end_dim=-1)\n",
      "  (linear): Sequential(\n",
      "    (0): Linear(in_features=784, out_features=512, bias=True)\n",
      "    (1): ReLU()\n",
      "    (2): Linear(in_features=512, out_features=512, bias=True)\n",
      "    (3): ReLU()\n",
      "    (4): Dropout(p=0.28, inplace=False)\n",
      "    (5): Linear(in_features=512, out_features=10, bias=True)\n",
      "    (6): Sigmoid()\n",
      "  )\n",
      ")\n"
     ]
    }
   ],
   "source": [
    "device = \"cuda\"\n",
    "print(device)\n",
    "\n",
    "class MLP(nn.Module):\n",
    "    def __init__(self):\n",
    "        super(MLP,self).__init__()\n",
    "        self.flatten = nn.Flatten()\n",
    "        self.linear=nn.Sequential(\n",
    "            nn.Linear(28*28,512),\n",
    "            nn.ReLU(),\n",
    "            nn.Linear(512,512),\n",
    "            nn.ReLU(),\n",
    "            nn.Dropout(p=0.28),\n",
    "            nn.Linear(512,10),\n",
    "            nn.Sigmoid()   \n",
    "        )\n",
    "    def forward(self,x):\n",
    "        x = self.flatten(x)\n",
    "        out = self.linear(x)\n",
    "        return out  \n",
    "    \n",
    "model = MLP().to(device)\n",
    "print(model)    "
   ]
  },
  {
   "cell_type": "markdown",
   "metadata": {},
   "source": [
    "Use the loss function to compute the difference between predict label & ground truth label."
   ]
  },
  {
   "cell_type": "code",
   "execution_count": 9,
   "metadata": {},
   "outputs": [],
   "source": [
    "loss_function = nn.CrossEntropyLoss()"
   ]
  },
  {
   "cell_type": "markdown",
   "metadata": {},
   "source": [
    "Use optimizers to make the model converge."
   ]
  },
  {
   "cell_type": "code",
   "execution_count": 10,
   "metadata": {},
   "outputs": [],
   "source": [
    "optimizer = torch.optim.Adam(model.parameters(), lr=0.001) "
   ]
  },
  {
   "cell_type": "markdown",
   "metadata": {},
   "source": [
    "## 4. Train & test the model"
   ]
  },
  {
   "cell_type": "markdown",
   "metadata": {},
   "source": [
    "- Implement a `train` function, that consists of looping through the data one batch at a time, using the optimizer to adjust the model, and computing the prediction and the loss. \n",
    "- Use `backward()` function to get the gradient of each Linear Layer's parameters.\n",
    "- Keep track of the number of the batch so we can print the loss and the current batch every 100 iterations."
   ]
  },
  {
   "cell_type": "code",
   "execution_count": 11,
   "metadata": {},
   "outputs": [],
   "source": [
    "def train(dataloader, loss_fn, optimizer):\n",
    "    size = len(dataloader.dataset)\n",
    "    model.train()\n",
    "    for batch, (X, y) in enumerate(dataloader):\n",
    "        X, y = X.to(device), y.to(device)\n",
    "        pred = model(X.to('cuda'))\n",
    "        loss = loss_fn(pred, y.to('cuda'))\n",
    "\n",
    "        loss.backward()\n",
    "        optimizer.step()\n",
    "        optimizer.zero_grad()\n",
    "        \n",
    "\n",
    "        if batch % 100 == 0:\n",
    "            loss, current = loss.item(), (batch + 1) * len(X)\n",
    "            print(f\"loss: {loss:>7f}  [{current:>5d}/{size:>5d}]\")\n",
    "            \n",
    "    return loss.item()        "
   ]
  },
  {
   "cell_type": "markdown",
   "metadata": {},
   "source": [
    "- The `test` function computes the accuracy and the loss, using the test set."
   ]
  },
  {
   "cell_type": "code",
   "execution_count": 12,
   "metadata": {},
   "outputs": [],
   "source": [
    "def test(dataloader, loss_fn):\n",
    "    size = len(dataloader.dataset)\n",
    "    num_batches = len(dataloader)\n",
    "    model.eval()\n",
    "    test_loss, correct = 0, 0\n",
    "\n",
    "    with torch.no_grad():\n",
    "        for X, y in dataloader:\n",
    "            X, y = X.to(device), y.to(device)\n",
    "            pred = model(X.to(\"cuda\"))\n",
    "            test_loss += loss_fn(pred, y.to('cuda')).item()\n",
    "            correct += (pred.argmax(1) == y.to('cuda')).type(torch.float).sum().item()\n",
    "\n",
    "    test_loss /= num_batches\n",
    "    correct /= size\n",
    "    print(f\"Test Error: \\n Accuracy: {(100*correct):>0.1f}%, Avg loss: {test_loss:>8f} \\n\")\n",
    "    \n",
    "    return test_loss "
   ]
  },
  {
   "cell_type": "code",
   "execution_count": 13,
   "metadata": {},
   "outputs": [
    {
     "name": "stdout",
     "output_type": "stream",
     "text": [
      "Epoch 1\n",
      "-------------------------------\n",
      "loss: 2.302194  [   64/60000]\n",
      "loss: 1.552959  [ 6464/60000]\n",
      "loss: 1.539170  [12864/60000]\n",
      "loss: 1.527411  [19264/60000]\n",
      "loss: 1.525473  [25664/60000]\n",
      "loss: 1.530488  [32064/60000]\n",
      "loss: 1.512820  [38464/60000]\n",
      "loss: 1.514968  [44864/60000]\n",
      "loss: 1.522738  [51264/60000]\n",
      "loss: 1.511900  [57664/60000]\n",
      "Test Error: \n",
      " Accuracy: 95.4%, Avg loss: 1.501656 \n",
      "\n",
      "Epoch 2\n",
      "-------------------------------\n",
      "loss: 1.487405  [   64/60000]\n",
      "loss: 1.509783  [ 6464/60000]\n",
      "loss: 1.487299  [12864/60000]\n",
      "loss: 1.498845  [19264/60000]\n",
      "loss: 1.486361  [25664/60000]\n",
      "loss: 1.493232  [32064/60000]\n",
      "loss: 1.484947  [38464/60000]\n",
      "loss: 1.504437  [44864/60000]\n",
      "loss: 1.492816  [51264/60000]\n",
      "loss: 1.489903  [57664/60000]\n",
      "Test Error: \n",
      " Accuracy: 95.7%, Avg loss: 1.495044 \n",
      "\n",
      "Epoch 3\n",
      "-------------------------------\n",
      "loss: 1.487218  [   64/60000]\n",
      "loss: 1.484921  [ 6464/60000]\n",
      "loss: 1.481154  [12864/60000]\n",
      "loss: 1.481547  [19264/60000]\n",
      "loss: 1.484313  [25664/60000]\n",
      "loss: 1.485132  [32064/60000]\n",
      "loss: 1.481571  [38464/60000]\n",
      "loss: 1.499546  [44864/60000]\n",
      "loss: 1.484617  [51264/60000]\n",
      "loss: 1.486293  [57664/60000]\n",
      "Test Error: \n",
      " Accuracy: 96.5%, Avg loss: 1.487952 \n",
      "\n",
      "Epoch 4\n",
      "-------------------------------\n",
      "loss: 1.479940  [   64/60000]\n",
      "loss: 1.497332  [ 6464/60000]\n",
      "loss: 1.474419  [12864/60000]\n",
      "loss: 1.480848  [19264/60000]\n",
      "loss: 1.482736  [25664/60000]\n",
      "loss: 1.484539  [32064/60000]\n",
      "loss: 1.476814  [38464/60000]\n",
      "loss: 1.497794  [44864/60000]\n",
      "loss: 1.489612  [51264/60000]\n",
      "loss: 1.494425  [57664/60000]\n",
      "Test Error: \n",
      " Accuracy: 97.1%, Avg loss: 1.485408 \n",
      "\n",
      "Epoch 5\n",
      "-------------------------------\n",
      "loss: 1.470901  [   64/60000]\n",
      "loss: 1.495481  [ 6464/60000]\n",
      "loss: 1.476221  [12864/60000]\n",
      "loss: 1.498793  [19264/60000]\n",
      "loss: 1.469615  [25664/60000]\n",
      "loss: 1.475614  [32064/60000]\n",
      "loss: 1.476021  [38464/60000]\n",
      "loss: 1.482246  [44864/60000]\n",
      "loss: 1.477900  [51264/60000]\n",
      "loss: 1.487834  [57664/60000]\n",
      "Test Error: \n",
      " Accuracy: 97.4%, Avg loss: 1.482159 \n",
      "\n",
      "Epoch 6\n",
      "-------------------------------\n",
      "loss: 1.465430  [   64/60000]\n",
      "loss: 1.486560  [ 6464/60000]\n",
      "loss: 1.473391  [12864/60000]\n",
      "loss: 1.487902  [19264/60000]\n",
      "loss: 1.494653  [25664/60000]\n",
      "loss: 1.474202  [32064/60000]\n",
      "loss: 1.479738  [38464/60000]\n",
      "loss: 1.478969  [44864/60000]\n",
      "loss: 1.477352  [51264/60000]\n",
      "loss: 1.480773  [57664/60000]\n",
      "Test Error: \n",
      " Accuracy: 97.8%, Avg loss: 1.478541 \n",
      "\n",
      "Epoch 7\n",
      "-------------------------------\n",
      "loss: 1.469502  [   64/60000]\n",
      "loss: 1.480385  [ 6464/60000]\n",
      "loss: 1.474984  [12864/60000]\n",
      "loss: 1.490973  [19264/60000]\n",
      "loss: 1.471764  [25664/60000]\n",
      "loss: 1.471616  [32064/60000]\n",
      "loss: 1.478738  [38464/60000]\n",
      "loss: 1.482333  [44864/60000]\n",
      "loss: 1.492726  [51264/60000]\n",
      "loss: 1.482737  [57664/60000]\n",
      "Test Error: \n",
      " Accuracy: 97.6%, Avg loss: 1.480609 \n",
      "\n",
      "Epoch 8\n",
      "-------------------------------\n",
      "loss: 1.472616  [   64/60000]\n",
      "loss: 1.478518  [ 6464/60000]\n",
      "loss: 1.463750  [12864/60000]\n",
      "loss: 1.476779  [19264/60000]\n",
      "loss: 1.465063  [25664/60000]\n",
      "loss: 1.470966  [32064/60000]\n",
      "loss: 1.474666  [38464/60000]\n",
      "loss: 1.479251  [44864/60000]\n",
      "loss: 1.484384  [51264/60000]\n",
      "loss: 1.493970  [57664/60000]\n",
      "Test Error: \n",
      " Accuracy: 97.4%, Avg loss: 1.481541 \n",
      "\n",
      "Epoch 9\n",
      "-------------------------------\n",
      "loss: 1.464016  [   64/60000]\n",
      "loss: 1.492780  [ 6464/60000]\n",
      "loss: 1.466286  [12864/60000]\n",
      "loss: 1.465496  [19264/60000]\n",
      "loss: 1.464009  [25664/60000]\n",
      "loss: 1.465826  [32064/60000]\n",
      "loss: 1.474614  [38464/60000]\n",
      "loss: 1.481265  [44864/60000]\n",
      "loss: 1.476804  [51264/60000]\n",
      "loss: 1.482044  [57664/60000]\n",
      "Test Error: \n",
      " Accuracy: 97.5%, Avg loss: 1.482859 \n",
      "\n",
      "Epoch 10\n",
      "-------------------------------\n",
      "loss: 1.469277  [   64/60000]\n",
      "loss: 1.492586  [ 6464/60000]\n",
      "loss: 1.465934  [12864/60000]\n",
      "loss: 1.483320  [19264/60000]\n",
      "loss: 1.463728  [25664/60000]\n",
      "loss: 1.472918  [32064/60000]\n",
      "loss: 1.476704  [38464/60000]\n",
      "loss: 1.481530  [44864/60000]\n",
      "loss: 1.484448  [51264/60000]\n",
      "loss: 1.487070  [57664/60000]\n",
      "Test Error: \n",
      " Accuracy: 97.8%, Avg loss: 1.479024 \n",
      "\n",
      "Done!\n"
     ]
    }
   ],
   "source": [
    "epochs = range(1, 11)\n",
    "\n",
    "train_loss_vals = []\n",
    "test_loss_vals = []\n",
    "\n",
    "for t in epochs:\n",
    "    print(f\"Epoch {t}\\n-------------------------------\")\n",
    "    train_loss = train(loaded_train, loss_function, optimizer)\n",
    "    test_loss= test(loaded_test, loss_function)\n",
    "\n",
    "    train_loss_vals.append(train_loss)\n",
    "    test_loss_vals.append(test_loss)\n",
    "\n",
    "    \n",
    "print(\"Done!\")"
   ]
  },
  {
   "cell_type": "markdown",
   "metadata": {},
   "source": [
    "Save & load model."
   ]
  },
  {
   "cell_type": "code",
   "execution_count": 14,
   "metadata": {},
   "outputs": [],
   "source": [
    "torch.save(model, \"model.pth\")\n",
    "model = torch.load(\"model.pth\")"
   ]
  },
  {
   "cell_type": "markdown",
   "metadata": {},
   "source": [
    "## 5. Make predictions"
   ]
  },
  {
   "cell_type": "code",
   "execution_count": 15,
   "metadata": {},
   "outputs": [
    {
     "data": {
      "image/png": "[encoded data removed]",
      "text/plain": [
       "<Figure size 640x480 with 1 Axes>"
      ]
     },
     "metadata": {},
     "output_type": "display_data"
    }
   ],
   "source": [
    "\n",
    "plt.plot(epochs, train_loss_vals, label=\"Train Loss\")\n",
    "plt.plot(epochs, test_loss_vals, label=\"Test Loss\")\n",
    "plt.title(\"Model Loss\")\n",
    "plt.xlabel('Epoch')\n",
    "plt.ylabel('Error')\n",
    "plt.legend()\n",
    "plt.grid(True)\n",
    "plt.show()"
   ]
  }
 ],
 "metadata": {
  "kernelspec": {
   "display_name": "Python 3",
   "language": "python",
   "name": "python3"
  },
  "language_info": {
   "codemirror_mode": {
    "name": "ipython",
    "version": 3
   },
   "file_extension": ".py",
   "mimetype": "text/x-python",
   "name": "python",
   "nbconvert_exporter": "python",
   "pygments_lexer": "ipython3",
   "version": "3.11.2"
  }
 },
 "nbformat": 4,
 "nbformat_minor": 2
}
